{
 "cells": [
  {
   "cell_type": "code",
   "execution_count": 7,
   "metadata": {},
   "outputs": [],
   "source": [
    "import information_values as iv\n",
    "iv.iv_numeric()"
   ]
  },
  {
   "cell_type": "markdown",
   "metadata": {},
   "source": [
    "Import libraries"
   ]
  },
  {
   "cell_type": "code",
   "execution_count": 1,
   "metadata": {},
   "outputs": [],
   "source": [
    "import numpy as np\n",
    "import pandas as pd\n",
    "from sklearn.datasets import make_classification"
   ]
  },
  {
   "cell_type": "markdown",
   "metadata": {},
   "source": [
    "Create a made-up dataset"
   ]
  },
  {
   "cell_type": "code",
   "execution_count": 2,
   "metadata": {},
   "outputs": [
    {
     "data": {
      "text/html": [
       "<div>\n",
       "<style scoped>\n",
       "    .dataframe tbody tr th:only-of-type {\n",
       "        vertical-align: middle;\n",
       "    }\n",
       "\n",
       "    .dataframe tbody tr th {\n",
       "        vertical-align: top;\n",
       "    }\n",
       "\n",
       "    .dataframe thead th {\n",
       "        text-align: right;\n",
       "    }\n",
       "</style>\n",
       "<table border=\"1\" class=\"dataframe\">\n",
       "  <thead>\n",
       "    <tr style=\"text-align: right;\">\n",
       "      <th></th>\n",
       "      <th>feature_1</th>\n",
       "      <th>feature_2</th>\n",
       "      <th>feature_3</th>\n",
       "      <th>feature_4</th>\n",
       "      <th>feature_5</th>\n",
       "      <th>feature_6</th>\n",
       "      <th>feature_7</th>\n",
       "      <th>feature_8</th>\n",
       "      <th>feature_9</th>\n",
       "      <th>feature_10</th>\n",
       "    </tr>\n",
       "  </thead>\n",
       "  <tbody>\n",
       "    <tr>\n",
       "      <th>0</th>\n",
       "      <td>0.240631</td>\n",
       "      <td>-0.079709</td>\n",
       "      <td>-0.053133</td>\n",
       "      <td>0.092635</td>\n",
       "      <td>-0.139358</td>\n",
       "      <td>1.203193</td>\n",
       "      <td>-0.155900</td>\n",
       "      <td>-0.097093</td>\n",
       "      <td>0.069947</td>\n",
       "      <td>0.116603</td>\n",
       "    </tr>\n",
       "    <tr>\n",
       "      <th>1</th>\n",
       "      <td>0.754250</td>\n",
       "      <td>-0.937854</td>\n",
       "      <td>0.219473</td>\n",
       "      <td>-1.280669</td>\n",
       "      <td>1.556185</td>\n",
       "      <td>-0.655390</td>\n",
       "      <td>0.770232</td>\n",
       "      <td>0.193115</td>\n",
       "      <td>-2.278864</td>\n",
       "      <td>0.651029</td>\n",
       "    </tr>\n",
       "    <tr>\n",
       "      <th>2</th>\n",
       "      <td>0.958401</td>\n",
       "      <td>-1.318411</td>\n",
       "      <td>1.153505</td>\n",
       "      <td>-0.968165</td>\n",
       "      <td>1.886679</td>\n",
       "      <td>0.534737</td>\n",
       "      <td>0.460159</td>\n",
       "      <td>0.042332</td>\n",
       "      <td>0.792491</td>\n",
       "      <td>0.241443</td>\n",
       "    </tr>\n",
       "    <tr>\n",
       "      <th>3</th>\n",
       "      <td>0.643848</td>\n",
       "      <td>0.350821</td>\n",
       "      <td>-0.108697</td>\n",
       "      <td>0.710601</td>\n",
       "      <td>-0.854068</td>\n",
       "      <td>0.334855</td>\n",
       "      <td>0.607784</td>\n",
       "      <td>0.948349</td>\n",
       "      <td>1.297784</td>\n",
       "      <td>2.165832</td>\n",
       "    </tr>\n",
       "    <tr>\n",
       "      <th>4</th>\n",
       "      <td>1.032685</td>\n",
       "      <td>-1.264824</td>\n",
       "      <td>0.180678</td>\n",
       "      <td>0.359898</td>\n",
       "      <td>-0.263034</td>\n",
       "      <td>-0.337606</td>\n",
       "      <td>0.520756</td>\n",
       "      <td>-1.440363</td>\n",
       "      <td>1.257665</td>\n",
       "      <td>0.146308</td>\n",
       "    </tr>\n",
       "  </tbody>\n",
       "</table>\n",
       "</div>"
      ],
      "text/plain": [
       "   feature_1  feature_2  feature_3  feature_4  feature_5  feature_6  \\\n",
       "0   0.240631  -0.079709  -0.053133   0.092635  -0.139358   1.203193   \n",
       "1   0.754250  -0.937854   0.219473  -1.280669   1.556185  -0.655390   \n",
       "2   0.958401  -1.318411   1.153505  -0.968165   1.886679   0.534737   \n",
       "3   0.643848   0.350821  -0.108697   0.710601  -0.854068   0.334855   \n",
       "4   1.032685  -1.264824   0.180678   0.359898  -0.263034  -0.337606   \n",
       "\n",
       "   feature_7  feature_8  feature_9  feature_10  \n",
       "0  -0.155900  -0.097093   0.069947    0.116603  \n",
       "1   0.770232   0.193115  -2.278864    0.651029  \n",
       "2   0.460159   0.042332   0.792491    0.241443  \n",
       "3   0.607784   0.948349   1.297784    2.165832  \n",
       "4   0.520756  -1.440363   1.257665    0.146308  "
      ]
     },
     "execution_count": 2,
     "metadata": {},
     "output_type": "execute_result"
    }
   ],
   "source": [
    "df = pd.DataFrame(make_classification(n_samples=1000, n_features=10, random_state=123)[0])\n",
    "df.columns = ['feature_' + str(i + 1) for i in np.arange(10)]\n",
    "df.head()"
   ]
  },
  {
   "cell_type": "markdown",
   "metadata": {},
   "source": [
    "Replace 20% of `df['feature_1']` by `np.nan`"
   ]
  },
  {
   "cell_type": "code",
   "execution_count": 5,
   "metadata": {},
   "outputs": [
    {
     "data": {
      "text/html": [
       "<div>\n",
       "<style scoped>\n",
       "    .dataframe tbody tr th:only-of-type {\n",
       "        vertical-align: middle;\n",
       "    }\n",
       "\n",
       "    .dataframe tbody tr th {\n",
       "        vertical-align: top;\n",
       "    }\n",
       "\n",
       "    .dataframe thead th {\n",
       "        text-align: right;\n",
       "    }\n",
       "</style>\n",
       "<table border=\"1\" class=\"dataframe\">\n",
       "  <thead>\n",
       "    <tr style=\"text-align: right;\">\n",
       "      <th></th>\n",
       "      <th>feature_1</th>\n",
       "      <th>feature_2</th>\n",
       "      <th>feature_3</th>\n",
       "      <th>feature_4</th>\n",
       "      <th>feature_5</th>\n",
       "      <th>feature_6</th>\n",
       "      <th>feature_7</th>\n",
       "      <th>feature_8</th>\n",
       "      <th>feature_9</th>\n",
       "      <th>feature_10</th>\n",
       "    </tr>\n",
       "  </thead>\n",
       "  <tbody>\n",
       "    <tr>\n",
       "      <th>249</th>\n",
       "      <td>0.197899</td>\n",
       "      <td>0.448879</td>\n",
       "      <td>-0.414728</td>\n",
       "      <td>0.273918</td>\n",
       "      <td>-0.597342</td>\n",
       "      <td>-0.794839</td>\n",
       "      <td>-0.889163</td>\n",
       "      <td>-0.927115</td>\n",
       "      <td>-0.449290</td>\n",
       "      <td>1.013471</td>\n",
       "    </tr>\n",
       "    <tr>\n",
       "      <th>353</th>\n",
       "      <td>-0.907667</td>\n",
       "      <td>2.274703</td>\n",
       "      <td>-0.844466</td>\n",
       "      <td>0.452611</td>\n",
       "      <td>-1.101503</td>\n",
       "      <td>0.583875</td>\n",
       "      <td>0.443053</td>\n",
       "      <td>-0.681472</td>\n",
       "      <td>-1.147819</td>\n",
       "      <td>-0.058086</td>\n",
       "    </tr>\n",
       "    <tr>\n",
       "      <th>537</th>\n",
       "      <td>NaN</td>\n",
       "      <td>0.215481</td>\n",
       "      <td>0.657141</td>\n",
       "      <td>-0.318429</td>\n",
       "      <td>0.820276</td>\n",
       "      <td>0.305863</td>\n",
       "      <td>-0.451524</td>\n",
       "      <td>0.394839</td>\n",
       "      <td>0.968056</td>\n",
       "      <td>-0.830250</td>\n",
       "    </tr>\n",
       "    <tr>\n",
       "      <th>424</th>\n",
       "      <td>NaN</td>\n",
       "      <td>0.909865</td>\n",
       "      <td>0.236932</td>\n",
       "      <td>-0.808871</td>\n",
       "      <td>1.053589</td>\n",
       "      <td>-2.167642</td>\n",
       "      <td>-2.875674</td>\n",
       "      <td>-1.013913</td>\n",
       "      <td>-1.188939</td>\n",
       "      <td>0.367930</td>\n",
       "    </tr>\n",
       "    <tr>\n",
       "      <th>564</th>\n",
       "      <td>-0.045399</td>\n",
       "      <td>-1.214023</td>\n",
       "      <td>0.945345</td>\n",
       "      <td>-0.558379</td>\n",
       "      <td>1.289538</td>\n",
       "      <td>-0.598556</td>\n",
       "      <td>-1.062187</td>\n",
       "      <td>1.749970</td>\n",
       "      <td>1.170376</td>\n",
       "      <td>-1.949794</td>\n",
       "    </tr>\n",
       "  </tbody>\n",
       "</table>\n",
       "</div>"
      ],
      "text/plain": [
       "     feature_1  feature_2  feature_3  feature_4  feature_5  feature_6  \\\n",
       "249   0.197899   0.448879  -0.414728   0.273918  -0.597342  -0.794839   \n",
       "353  -0.907667   2.274703  -0.844466   0.452611  -1.101503   0.583875   \n",
       "537        NaN   0.215481   0.657141  -0.318429   0.820276   0.305863   \n",
       "424        NaN   0.909865   0.236932  -0.808871   1.053589  -2.167642   \n",
       "564  -0.045399  -1.214023   0.945345  -0.558379   1.289538  -0.598556   \n",
       "\n",
       "     feature_7  feature_8  feature_9  feature_10  \n",
       "249  -0.889163  -0.927115  -0.449290    1.013471  \n",
       "353   0.443053  -0.681472  -1.147819   -0.058086  \n",
       "537  -0.451524   0.394839   0.968056   -0.830250  \n",
       "424  -2.875674  -1.013913  -1.188939    0.367930  \n",
       "564  -1.062187   1.749970   1.170376   -1.949794  "
      ]
     },
     "execution_count": 5,
     "metadata": {},
     "output_type": "execute_result"
    }
   ],
   "source": [
    "# Set random state\n",
    "np.random.seed(seed=123)\n",
    "# Random indices that represent 20% of the rows in `df` \n",
    "idx = np.random.randint(low=0, high=len(df), size=round(len(df) * 0.2))\n",
    "# Select rows in `idx` and replace `feature_1` with `np.nan`\n",
    "df.loc[idx, 'feature_1'] = np.nan\n",
    "# Visualize our progress so far\n",
    "df.sample(5, random_state=100)"
   ]
  },
  {
   "cell_type": "markdown",
   "metadata": {},
   "source": [
    "Use `decision_tree_imputer` to impute values"
   ]
  },
  {
   "cell_type": "code",
   "execution_count": 6,
   "metadata": {
    "scrolled": true
   },
   "outputs": [
    {
     "ename": "NameError",
     "evalue": "name 'decision_tree_imputer' is not defined",
     "output_type": "error",
     "traceback": [
      "\u001b[1;31m---------------------------------------------------------------------------\u001b[0m",
      "\u001b[1;31mNameError\u001b[0m                                 Traceback (most recent call last)",
      "\u001b[1;32m<ipython-input-6-3514dac3a081>\u001b[0m in \u001b[0;36m<module>\u001b[1;34m\u001b[0m\n\u001b[1;32m----> 1\u001b[1;33m df['feature_1_full'] = decision_tree_imputer(data=df, to_impute='feature_1',\n\u001b[0m\u001b[0;32m      2\u001b[0m                                              max_depth=None, max_features=5, random_state=123)\n",
      "\u001b[1;31mNameError\u001b[0m: name 'decision_tree_imputer' is not defined"
     ]
    }
   ],
   "source": [
    "df['feature_1_full'] = decision_tree_imputer(data=df, to_impute='feature_1',\n",
    "                                             max_depth=None, max_features=5, random_state=123)"
   ]
  }
 ],
 "metadata": {
  "kernelspec": {
   "display_name": "Python 3",
   "language": "python",
   "name": "python3"
  },
  "language_info": {
   "codemirror_mode": {
    "name": "ipython",
    "version": 3
   },
   "file_extension": ".py",
   "mimetype": "text/x-python",
   "name": "python",
   "nbconvert_exporter": "python",
   "pygments_lexer": "ipython3",
   "version": "3.8.3"
  }
 },
 "nbformat": 4,
 "nbformat_minor": 4
}
